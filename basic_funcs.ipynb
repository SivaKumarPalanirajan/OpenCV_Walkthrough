{
 "cells": [
  {
   "cell_type": "markdown",
   "metadata": {},
   "source": [
    "# BGR TO GRAYSCALE"
   ]
  },
  {
   "cell_type": "code",
   "execution_count": 2,
   "metadata": {},
   "outputs": [],
   "source": [
    "import cv2 as cv\n",
    "img=cv.imread('Images\\dog1.jpg')\n",
    "cv.imshow(\"Image\",img)\n",
    "grayscale=cv.cvtColor(img,cv.COLOR_BGR2GRAY)\n",
    "cv.imshow(\"Grayscale image\",grayscale)\n",
    "cv.waitKey(0)\n",
    "cv.destroyAllWindows()"
   ]
  },
  {
   "cell_type": "markdown",
   "metadata": {},
   "source": [
    "# BLURRING IMAGES"
   ]
  },
  {
   "cell_type": "code",
   "execution_count": 3,
   "metadata": {},
   "outputs": [],
   "source": [
    "img=cv.imread(\"Images\\dog2.jpg\")\n",
    "blurred=cv.GaussianBlur(img,(7,7),cv.BORDER_DEFAULT)\n",
    "cv.imshow(\"Image\",img)\n",
    "cv.imshow(\"Blurred Image\",blurred)\n",
    "cv.waitKey(0)\n",
    "cv.destroyAllWindows()"
   ]
  },
  {
   "cell_type": "markdown",
   "metadata": {},
   "source": [
    "kernel should always be odd numbers"
   ]
  },
  {
   "cell_type": "markdown",
   "metadata": {},
   "source": [
    "# CANNY EDGE DETECTOR"
   ]
  },
  {
   "cell_type": "code",
   "execution_count": 16,
   "metadata": {},
   "outputs": [],
   "source": [
    "img=cv.imread(\"Images\\dog3.jpg\")\n",
    "edges=cv.Canny(img,120,180)\n",
    "cv.imshow(\"Image\",img)\n",
    "cv.imshow(\"Edges\",edges)\n",
    "\n",
    "cv.waitKey(0)\n",
    "cv.destroyAllWindows()"
   ]
  },
  {
   "cell_type": "markdown",
   "metadata": {},
   "source": [
    "# CANNY EDGE DETECTOR AFTER APPLYING BLURRING"
   ]
  },
  {
   "cell_type": "code",
   "execution_count": 9,
   "metadata": {},
   "outputs": [],
   "source": [
    "img=cv.imread(\"Images\\dog3.jpg\")\n",
    "blurred=cv.GaussianBlur(img,(7,7),cv.BORDER_DEFAULT)\n",
    "edges=cv.Canny(blurred,120,180)\n",
    "cv.imshow(\"Image\",img)\n",
    "cv.imshow(\"Edges\",edges)\n",
    "cv.waitKey(0)\n",
    "cv.destroyAllWindows()"
   ]
  },
  {
   "cell_type": "markdown",
   "metadata": {},
   "source": [
    "# EDGE DETECTION ON VIDEO AFTER APPLYING RESIZING ON THE IMAGE"
   ]
  },
  {
   "cell_type": "code",
   "execution_count": 21,
   "metadata": {},
   "outputs": [],
   "source": [
    "def resizing(frame,scale):\n",
    "    height=int(frame.shape[0]*scale)\n",
    "    width=int(frame.shape[1]*scale)\n",
    "    new_dim=(height,width)\n",
    "    return cv.resize(frame,new_dim,interpolation=cv.INTER_AREA)\n",
    "\n",
    "vid=cv.VideoCapture(\"Videos\\dog1.mp4\")\n",
    "while True:\n",
    "    isTrue,frame=vid.read()\n",
    "    frame=resizing(frame,0.25)\n",
    "    edges=cv.Canny(frame,120,170)\n",
    "    cv.imshow(\"Edges\",edges)\n",
    "    if cv.waitKey(20) & 0xFF==ord('x'):\n",
    "        break\n",
    "\n",
    "vid.release()\n",
    "cv.destroyAllWindows()"
   ]
  }
 ],
 "metadata": {
  "kernelspec": {
   "display_name": "base",
   "language": "python",
   "name": "python3"
  },
  "language_info": {
   "codemirror_mode": {
    "name": "ipython",
    "version": 3
   },
   "file_extension": ".py",
   "mimetype": "text/x-python",
   "name": "python",
   "nbconvert_exporter": "python",
   "pygments_lexer": "ipython3",
   "version": "3.11.4"
  }
 },
 "nbformat": 4,
 "nbformat_minor": 2
}
