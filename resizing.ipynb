{
 "cells": [
  {
   "cell_type": "markdown",
   "metadata": {},
   "source": [
    "# TO RESIZE IMAGES"
   ]
  },
  {
   "cell_type": "code",
   "execution_count": 9,
   "metadata": {},
   "outputs": [
    {
     "data": {
      "text/plain": [
       "-1"
      ]
     },
     "execution_count": 9,
     "metadata": {},
     "output_type": "execute_result"
    }
   ],
   "source": [
    "import cv2 as cv\n",
    "img=cv.imread('Images/dog1.jpg')\n",
    "\n",
    "def resizing(img,scale):\n",
    "    height=int(img.shape[0]*scale)\n",
    "    width=int(img.shape[1]*scale)\n",
    "    new_size=(height,width)\n",
    "    return cv.resize(img,new_size,interpolation=cv.INTER_AREA)\n",
    "\n",
    "cv.imshow(\"Old image\",img)\n",
    "\n",
    "new_img=resizing(img,0.5)\n",
    "cv.imshow(\"New image\",new_img)\n",
    "\n",
    "cv.waitKey(0)"
   ]
  },
  {
   "cell_type": "markdown",
   "metadata": {},
   "source": [
    "resizing func is created to do the resizing\n",
    "\n",
    "we reintialize the new height and width by multiplying with the scaling factor \n",
    "\n",
    "resize function is used to do the resizing where we pass new dimensions along with the original image"
   ]
  },
  {
   "cell_type": "markdown",
   "metadata": {},
   "source": [
    "# TO RESIZE IMAGES"
   ]
  },
  {
   "cell_type": "code",
   "execution_count": 20,
   "metadata": {},
   "outputs": [
    {
     "data": {
      "text/plain": [
       "<function destroyAllWindows>"
      ]
     },
     "execution_count": 20,
     "metadata": {},
     "output_type": "execute_result"
    }
   ],
   "source": [
    "import cv2 as cv\n",
    "\n",
    "def resizing(frame,scale):\n",
    "    height=int(frame.shape[0]*scale)\n",
    "    width=int(frame.shape[1]*scale)\n",
    "    new_dim=(height,width)\n",
    "    return cv.resize(frame,new_dim,interpolation=cv.INTER_AREA)\n",
    "\n",
    "vid=cv.VideoCapture(\"Videos/dog1.mp4\")\n",
    "while True:\n",
    "    isTrue,frame=vid.read()\n",
    "    new_frame=resizing(frame,0.2)\n",
    "    cv.imshow('video',new_frame)\n",
    "    if cv.waitKey(20) & 0xFF==ord('x'):\n",
    "        break\n",
    "\n",
    "vid.release()\n",
    "cv.destroyAllWindows"
   ]
  },
  {
   "cell_type": "markdown",
   "metadata": {},
   "source": [
    "resizing func is created to do the resizing\n",
    "\n",
    "we reintialize the new height and width by multiplying with the scaling factor \n",
    "\n",
    "resize function is used to do the resizing where we pass new dimensions along with the original image\n",
    "\n",
    "VideoCapture is used to capture the video \n",
    "\n",
    "Using While loop we display each frame as the video as a whole cant be displayed but instead we display as frames\n",
    "\n",
    "We resize each frame after reading in each frame in the while loop then we display it\n"
   ]
  }
 ],
 "metadata": {
  "kernelspec": {
   "display_name": "base",
   "language": "python",
   "name": "python3"
  },
  "language_info": {
   "codemirror_mode": {
    "name": "ipython",
    "version": 3
   },
   "file_extension": ".py",
   "mimetype": "text/x-python",
   "name": "python",
   "nbconvert_exporter": "python",
   "pygments_lexer": "ipython3",
   "version": "3.11.4"
  }
 },
 "nbformat": 4,
 "nbformat_minor": 2
}
