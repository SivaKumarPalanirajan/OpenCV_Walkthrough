{
 "cells": [
  {
   "cell_type": "markdown",
   "metadata": {},
   "source": [
    "# To read in Images"
   ]
  },
  {
   "cell_type": "code",
   "execution_count": 1,
   "metadata": {},
   "outputs": [
    {
     "data": {
      "text/plain": [
       "-1"
      ]
     },
     "execution_count": 1,
     "metadata": {},
     "output_type": "execute_result"
    }
   ],
   "source": [
    "import cv2 as cv\n",
    "img=cv.imread(\"Images/dog1.jpg\")\n",
    "cv.imshow(\"Dog\",img)\n",
    "cv.waitKey(0)\n",
    "cv.destroyAllWindows()"
   ]
  },
  {
   "cell_type": "markdown",
   "metadata": {},
   "source": [
    "imread is used to read in the image: we pass the directory of the image\n",
    "\n",
    "imshow is used to display the image: we pass the name of the window which will display the image and the actual image \n",
    "\n",
    "waitKey is used to cause a slight delay at which the image would be displayed on the new window"
   ]
  },
  {
   "cell_type": "markdown",
   "metadata": {},
   "source": [
    "# To read in Videos"
   ]
  },
  {
   "cell_type": "code",
   "execution_count": 10,
   "metadata": {},
   "outputs": [],
   "source": [
    "vid=cv.VideoCapture('Videos/dog1.mp4')\n",
    "\n",
    "while True:\n",
    "    isTrue,frame=vid.read()\n",
    "    cv.imshow(\"Video\",frame)\n",
    "\n",
    "    if cv.waitKey(20) & 0xFF==ord('x'):\n",
    "        break \n",
    "\n",
    "vid.release()\n",
    "cv.destroyAllWindows()"
   ]
  },
  {
   "cell_type": "markdown",
   "metadata": {},
   "source": [
    "VideoCapture is used to the input which is the video\n",
    "\n",
    "Then a while loop is ran to display each frame as a video cant be displayed directly instead each frame is displayed\n",
    "\n",
    "read() is used to read a bool val and the individual frame. the bool value signals if a frame is available or not\n",
    "\n",
    "0xFF==ord('x') is used to say that the video must be closed when 'x' is pressed\n",
    "\n",
    "release() is used to release the VideoCapture process\n",
    "\n",
    "destroyAllWindows() is used to close the display windows -->"
   ]
  },
  {
   "cell_type": "markdown",
   "metadata": {},
   "source": [
    "# To read in Live video (WebCam)"
   ]
  },
  {
   "cell_type": "code",
   "execution_count": null,
   "metadata": {},
   "outputs": [],
   "source": [
    "vid=cv.VideoCapture(0)\n",
    "while True:\n",
    "    isTrue,frame=vid.read()\n",
    "    cv.imshow(\"Video\",frame)\n",
    "\n",
    "    if cv.waitKey(20) & 0xFF==ord('x'):\n",
    "        break \n",
    "\n",
    "vid.release()\n",
    "cv.destroyAllWindows()"
   ]
  },
  {
   "cell_type": "markdown",
   "metadata": {},
   "source": [
    "Here '0' in VideoCapture represents Webcam and the input numbers keeps on going\n",
    "\n",
    "Each number would represent different cameras if multiple cameras are present"
   ]
  }
 ],
 "metadata": {
  "kernelspec": {
   "display_name": "base",
   "language": "python",
   "name": "python3"
  },
  "language_info": {
   "codemirror_mode": {
    "name": "ipython",
    "version": 3
   },
   "file_extension": ".py",
   "mimetype": "text/x-python",
   "name": "python",
   "nbconvert_exporter": "python",
   "pygments_lexer": "ipython3",
   "version": "3.11.4"
  }
 },
 "nbformat": 4,
 "nbformat_minor": 2
}
