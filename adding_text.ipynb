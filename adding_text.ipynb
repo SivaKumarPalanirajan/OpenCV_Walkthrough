{
 "cells": [
  {
   "cell_type": "markdown",
   "metadata": {},
   "source": [
    "# Adding text to the image"
   ]
  },
  {
   "cell_type": "code",
   "execution_count": 8,
   "metadata": {},
   "outputs": [],
   "source": [
    "import cv2 as cv\n",
    "img=cv.imread('Images/dog1.jpg')\n",
    "cv.putText(img,'This is a dog',(100,100),cv.FONT_HERSHEY_DUPLEX,fontScale=0.5,color=(0,0,255),thickness=2)\n",
    "cv.imshow(\"Image\",img)\n",
    "\n",
    "cv.waitKey(0)\n",
    "cv.destroyAllWindows()"
   ]
  },
  {
   "cell_type": "markdown",
   "metadata": {},
   "source": [
    "Here putText takes the arguments: the image,the text,the first coordinates, the font of the text,the scale of the font,the color of the text, the thickness of the text"
   ]
  }
 ],
 "metadata": {
  "kernelspec": {
   "display_name": "base",
   "language": "python",
   "name": "python3"
  },
  "language_info": {
   "codemirror_mode": {
    "name": "ipython",
    "version": 3
   },
   "file_extension": ".py",
   "mimetype": "text/x-python",
   "name": "python",
   "nbconvert_exporter": "python",
   "pygments_lexer": "ipython3",
   "version": "3.11.4"
  }
 },
 "nbformat": 4,
 "nbformat_minor": 2
}
