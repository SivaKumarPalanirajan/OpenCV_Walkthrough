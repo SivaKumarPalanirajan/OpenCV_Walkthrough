{
 "cells": [
  {
   "cell_type": "markdown",
   "metadata": {},
   "source": [
    "# Adding Colors to Image"
   ]
  },
  {
   "cell_type": "code",
   "execution_count": 7,
   "metadata": {},
   "outputs": [],
   "source": [
    "import cv2 as cv\n",
    "img=cv.imread('Images/dog2.jpg')\n",
    "cv.imshow('Image',img)\n",
    "\n",
    "img[200:400,100:200]= 0,255,0\n",
    "\n",
    "cv.imshow('Image',img)\n",
    "\n",
    "cv.waitKey(0)\n",
    "cv.destroyAllWindows()"
   ]
  },
  {
   "cell_type": "markdown",
   "metadata": {},
   "source": [
    "here we apply Green color which is (0,255,0) to the parts of Image which is (200:400,100:200)\n",
    "\n",
    "255,255,255 is white\n",
    "\n",
    "255,0,0 is Blue\n",
    "\n",
    "0,255,0 is Green\n",
    "\n",
    "0,0,255 is Red"
   ]
  },
  {
   "cell_type": "markdown",
   "metadata": {},
   "source": [
    "# Creating blank black Image"
   ]
  },
  {
   "cell_type": "code",
   "execution_count": 14,
   "metadata": {},
   "outputs": [],
   "source": [
    "import numpy as np\n",
    "black_img=np.zeros((500,500,3),dtype=('uint8'))\n",
    "cv.imshow('img',black_img)\n",
    "\n",
    "cv.waitKey(0)\n",
    "cv.destroyAllWindows()"
   ]
  },
  {
   "cell_type": "markdown",
   "metadata": {},
   "source": [
    "We create a matrix will all values as 0 and assign data type of 'uint8' which represents an image.\n",
    "\n",
    "Because all values are 0, it is black."
   ]
  },
  {
   "cell_type": "markdown",
   "metadata": {},
   "source": [
    "# Drawing a rectangle"
   ]
  },
  {
   "cell_type": "code",
   "execution_count": 20,
   "metadata": {},
   "outputs": [],
   "source": [
    "img=cv.imread('Images/dog3.jpg')\n",
    "cv.rectangle(img,(0,0),(150,100),color=(0,0,255),thickness=-1)\n",
    "cv.imshow(\"Image\",img)\n",
    "\n",
    "cv.waitKey(0)\n",
    "cv.destroyAllWindows()"
   ]
  },
  {
   "cell_type": "markdown",
   "metadata": {},
   "source": [
    "In cv.rectangle: we pass the img,first coordinates, second coordinates,color of the rectangle,thickness\n",
    "\n",
    "Here thickness is the thickness of the outline and it can be 1,2,... or we can give -1 to fill the rectangle with the color"
   ]
  },
  {
   "cell_type": "markdown",
   "metadata": {},
   "source": [
    "# Drawing a circle"
   ]
  },
  {
   "cell_type": "code",
   "execution_count": 24,
   "metadata": {},
   "outputs": [],
   "source": [
    "img=cv.imread('Images/dog3.jpg')\n",
    "cv.circle(img,(250,250),50,color=(0,0,255),thickness=2)\n",
    "cv.imshow(\"Image\",img)\n",
    "\n",
    "cv.waitKey(0)\n",
    "cv.destroyAllWindows()"
   ]
  },
  {
   "cell_type": "markdown",
   "metadata": {},
   "source": [
    "In cv.circle: we pass the img,first coordinates,radius,color of the circle,thickness\n",
    "\n",
    "Here thickness is the thickness of the outline and it can be 1,2,... or we can give -1 to fill the circle with the color"
   ]
  },
  {
   "cell_type": "markdown",
   "metadata": {},
   "source": [
    "# Drawing a line"
   ]
  },
  {
   "cell_type": "code",
   "execution_count": 25,
   "metadata": {},
   "outputs": [],
   "source": [
    "img=cv.imread('Images/dog3.jpg')\n",
    "cv.line(img,(250,250),(0,0),color=(0,0,255),thickness=2)\n",
    "cv.imshow(\"Image\",img)\n",
    "\n",
    "cv.waitKey(0)\n",
    "cv.destroyAllWindows()"
   ]
  },
  {
   "cell_type": "markdown",
   "metadata": {},
   "source": [
    "In cv.line: we pass the img,first coordinates,second coordinates,color of the line,thickness\n",
    "\n",
    "Here thickness is the thickness of the outline and it can be 1,2"
   ]
  }
 ],
 "metadata": {
  "kernelspec": {
   "display_name": "base",
   "language": "python",
   "name": "python3"
  },
  "language_info": {
   "codemirror_mode": {
    "name": "ipython",
    "version": 3
   },
   "file_extension": ".py",
   "mimetype": "text/x-python",
   "name": "python",
   "nbconvert_exporter": "python",
   "pygments_lexer": "ipython3",
   "version": "3.11.4"
  }
 },
 "nbformat": 4,
 "nbformat_minor": 2
}
